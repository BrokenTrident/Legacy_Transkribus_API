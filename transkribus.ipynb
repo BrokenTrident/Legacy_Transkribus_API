{
 "cells": [
  {
   "cell_type": "markdown",
   "id": "0412de61-ec13-4363-a567-95ea82a5dd66",
   "metadata": {},
   "source": [
    "## Imports"
   ]
  },
  {
   "cell_type": "code",
   "execution_count": 118,
   "id": "a3855d80-f1fb-45a2-b846-e0ab1ac57ab2",
   "metadata": {},
   "outputs": [],
   "source": [
    "# Imports the requests module\n",
    "import requests\n",
    "# Imports getpass for secure password retreival\n",
    "import getpass\n",
    "from xml.etree import ElementTree"
   ]
  },
  {
   "cell_type": "markdown",
   "id": "f5726361-b637-45fb-88dd-6e0aaf12e16c",
   "metadata": {},
   "source": [
    "## Define API endpoints\n",
    "\n",
    "We define the endpoints to becuase of they will be required for most essential interactions, they are stored in variables for use later."
   ]
  },
  {
   "cell_type": "code",
   "execution_count": 119,
   "id": "122ddfbd-86bf-4fa7-83c6-386aaf8503e2",
   "metadata": {},
   "outputs": [],
   "source": [
    "api_base_url = \"https://transkribus.eu/TrpServer/rest/\"\n",
    "login_endpoint = \"auth/login\"\n",
    "collections_endpoint = \"collections/list\""
   ]
  },
  {
   "cell_type": "markdown",
   "id": "c762c929-3b37-474d-b52b-0a53c8d32ebb",
   "metadata": {},
   "source": [
    "## Login"
   ]
  },
  {
   "cell_type": "code",
   "execution_count": 120,
   "id": "611fc3ec-0c37-4f53-895a-e4dae176a2ce",
   "metadata": {},
   "outputs": [
    {
     "name": "stdin",
     "output_type": "stream",
     "text": [
      "Enter your email:  chrisgill313@gmail.com\n",
      "Please enter password: ········\n"
     ]
    },
    {
     "name": "stdout",
     "output_type": "stream",
     "text": [
      "Login successful!\n",
      "<?xml version=\"1.0\" encoding=\"UTF-8\" standalone=\"yes\"?><trpUserLogin><userId>223591</userId><userName>chrisgill313@gmail.com</userName><email>chrisgill313@gmail.com</email><affiliation>None</affiliation><firstname>Christopher</firstname><lastname>Gill</lastname><gender>unknown</gender><userRoleList>User</userRoleList><isActive>1</isActive><isAdmin>false</isAdmin><created>2024-03-03T17:25:18.094+01:00</created><loginTime>2024-03-15T00:17:58.472+01:00</loginTime><sessionId>7A3F285245C558C94308183BD2451A6B</sessionId><userAgent>python-requests/2.31.0</userAgent><ip>64.119.192.94</ip></trpUserLogin>\n"
     ]
    }
   ],
   "source": [
    "# e?n3-c48kNr&@uW\n",
    "\n",
    "# Prompt user for email (login name)\n",
    "email = input('Enter your email: ')\n",
    "\n",
    "# Use getpass to securely retrieve password\n",
    "pwd = getpass.getpass('Please enter password:')\n",
    "\n",
    "# Define the payload\n",
    "payload = {\"user\": email, \"pw\": pwd}\n",
    "\n",
    "# Send a POST request to the URL\n",
    "response = requests.post(api_base_url + login_endpoint, data = payload)\n",
    "\n",
    "# Check the status code\n",
    "if response.status_code == 200:\n",
    "    print(\"Login successful!\")\n",
    "else:\n",
    "    print(f\"Failed to login. Status code: {response.status_code}\")\n",
    "\n",
    "print(response.text)\n",
    "tree = ElementTree.fromstring(response.content)\n",
    "session_id_val = tree.find(\"sessionId\").text"
   ]
  },
  {
   "cell_type": "markdown",
   "id": "50cba0cf-8167-4648-8c1f-78d7cf88ec9f",
   "metadata": {},
   "source": [
    "# Return Collection"
   ]
  },
  {
   "cell_type": "code",
   "execution_count": 121,
   "id": "e1d80e41-d47d-4f12-b961-901d3980fbd7",
   "metadata": {},
   "outputs": [
    {
     "name": "stdout",
     "output_type": "stream",
     "text": [
      "{'type': 'trpCollection', 'colId': 285080, 'colName': 'chrisgill313@gmail.com Collection', 'description': 'chrisgill313@gmail.com', 'created': '2024-03-03T17:25:18.262+01:00', 'crowdsourcing': False, 'elearning': False, 'pageId': 65987601, 'url': 'https://files.transkribus.eu/Get?fileType=view&id=DAEQZNPMDNXLWKBWOHOHPWDD', 'thumbUrl': 'https://files.transkribus.eu/Get?fileType=thumb&id=DAEQZNPMDNXLWKBWOHOHPWDD', 'nrOfDocuments': 10, 'role': 'Owner', 'accountingStatus': 1}\n",
      "Collection ID: 285080\n"
     ]
    }
   ],
   "source": [
    "session_id = sessionIdVal\n",
    "\n",
    "cookies = {\"JSESSIONID\": session_id}\n",
    "\n",
    "# Send a GET request to the URL\n",
    "response = requests.get(api_base_url + collections_endpoint, cookies = cookies)\n",
    "\n",
    "# Check if the request was successful\n",
    "if response.status_code == 200:\n",
    "    # Convert the response to JSON\n",
    "    collections = response.json()\n",
    "\n",
    "    # Print out each collection\n",
    "    for collection in collections:\n",
    "        print(collection)\n",
    "else:\n",
    "    print(f\"Failed to get collections. Status code: {response.status_code}\")\n",
    "\n",
    "collId = collections[0].get(\"colId\")\n",
    "print(f\"Collection ID: {collection_id}\")"
   ]
  },
  {
   "cell_type": "markdown",
   "id": "769e33a0-2574-4ca0-abae-821ed4ccc4d2",
   "metadata": {},
   "source": [
    "# Start Upload Job and return Upload ID"
   ]
  },
  {
   "cell_type": "code",
   "execution_count": 122,
   "id": "eea3700b-7ce6-41bb-8b0d-5cdf4b121a63",
   "metadata": {
    "scrolled": true
   },
   "outputs": [
    {
     "name": "stdout",
     "output_type": "stream",
     "text": [
      "uploads?collId=285080\n",
      "Upload process started successfully!\n",
      "<?xml version=\"1.0\" encoding=\"UTF-8\" standalone=\"yes\"?><trpUpload><md><docId>-1</docId><title>default</title><author>default</author><uploadTimestamp>0</uploadTimestamp><genre>default</genre><writer>default</writer><uploaderId>0</uploaderId><nrOfPages>0</nrOfPages><collectionList/></md><pageList><pages><fileName>default.jpg</fileName><pageUploaded>false</pageUploaded><pageNr>1</pageNr></pages></pageList><uploadId>1879908</uploadId><created>2024-03-15T00:18:18.670+01:00</created><userId>223591</userId><userName>chrisgill313@gmail.com</userName><nrOfPagesTotal>1</nrOfPagesTotal><uploadType>JSON</uploadType><colId>285080</colId></trpUpload>\n"
     ]
    }
   ],
   "source": [
    "imprt_endpoint = f\"uploads?collId={collId}\"\n",
    "\n",
    "\n",
    "print(imprt_endpoint)\n",
    "# Define the metadata for your document\n",
    "metadata = {\n",
    "  \"md\": {\n",
    "    \"title\": \"default\",\n",
    "    \"author\": \"default\",\n",
    "    \"genre\": \"default\",\n",
    "    \"writer\": \"default\"\n",
    "  },\n",
    "  \"pageList\": {\n",
    "    \"pages\": [\n",
    "      {\n",
    "        \"fileName\": \"default.jpg\",\n",
    "        \"pageNr\": 1\n",
    "      }\n",
    "    ]\n",
    "  }\n",
    "}\n",
    "headers = {\n",
    "    \"Content-Type\": \"application/json\"\n",
    "}\n",
    "# Start the upload process\n",
    "response = requests.post(api_base_url + imprt_endpoint, cookies = cookies, json = metadata, headers = headers)\n",
    "\n",
    "if response.status_code == 200:\n",
    "    print(\"Upload process started successfully!\")\n",
    "else:\n",
    "    print(f\"Failed to start upload process. Status code: {response.status_code}\")\n",
    "\n",
    "print(response.text)\n",
    "tree = ElementTree.fromstring(response.content)\n",
    "upload_id = tree.find(\"uploadId\").text"
   ]
  },
  {
   "cell_type": "markdown",
   "id": "6c5baae2-28e6-4672-98f0-592462580190",
   "metadata": {},
   "source": [
    "# Upload File using the upload id in the new path"
   ]
  },
  {
   "cell_type": "code",
   "execution_count": 123,
   "id": "def2779c-cf10-40d1-bbff-36da8d5cca11",
   "metadata": {},
   "outputs": [
    {
     "name": "stdout",
     "output_type": "stream",
     "text": [
      "File uploaded successfully!\n",
      "<?xml version=\"1.0\" encoding=\"UTF-8\" standalone=\"yes\"?><trpUpload><md><docId>-1</docId><title>default</title><author>default</author><uploadTimestamp>0</uploadTimestamp><genre>default</genre><writer>default</writer><uploaderId>0</uploaderId><nrOfPages>0</nrOfPages><collectionList/></md><pageList><pages><fileName>default.jpg</fileName><pageUploaded>true</pageUploaded><pageNr>1</pageNr></pages></pageList><uploadId>1879908</uploadId><created>2024-03-15T00:18:18.670+01:00</created><finished>2024-03-15T00:18:24.153+01:00</finished><userId>223591</userId><userName>chrisgill313@gmail.com</userName><nrOfPagesTotal>1</nrOfPagesTotal><uploadType>JSON</uploadType><jobId>8376249</jobId><colId>285080</colId></trpUpload>\n"
     ]
    }
   ],
   "source": [
    "#Upload ID added here\n",
    "upload_endpoint =  f\"uploads/{upload_id}\"\n",
    "\n",
    "img_file_path = 'default.jpg'\n",
    "\n",
    "files = {'img': open('default.jpg','rb')}\n",
    "\n",
    "# Replace with the actual upload ID obtained from the initial request\n",
    "\n",
    "response = requests.put(api_base_url + upload_endpoint , cookies=cookies, files = files)\n",
    "\n",
    "    # Check if the request was successful\n",
    "if response.status_code == 200:\n",
    "        print(\"File uploaded successfully!\")\n",
    "else:\n",
    "        print(f\"Failed to upload file. Status code: {response.status_code}\")\n",
    "\n",
    "print(response.text)"
   ]
  },
  {
   "cell_type": "code",
   "execution_count": null,
   "id": "25b78aac-d055-42ed-977f-bb46dd252229",
   "metadata": {},
   "outputs": [],
   "source": [
    "url = \"https://transkribus.eu/TrpServer/rest/jobs/8275367\"\n",
    "\n",
    "response = requests.get(url, params = params)\n",
    "print(response.text)\n"
   ]
  },
  {
   "cell_type": "code",
   "execution_count": 124,
   "id": "b26a826c-dd21-4978-98a4-ec2fbaae1a2b",
   "metadata": {},
   "outputs": [
    {
     "name": "stdout",
     "output_type": "stream",
     "text": [
      "You are not allowed to perform a layout analysis in this collection!\n"
     ]
    }
   ],
   "source": [
    "url = \"https://transkribus.eu/TrpServer/rest/LA\"\n",
    "\n",
    "doc_meta = {\n",
    "   \"docList\" : {\n",
    "      \"docs\" : [ {\n",
    "         \"docId\" : 1879908,\n",
    "         \"pageList\" : {\n",
    "            \"pages\" : [ {\n",
    "               \"pageId\" : 1\n",
    "            }]\n",
    "         }\n",
    "      } ]\n",
    "   }\n",
    "}\n",
    "\n",
    "response = requests.post(url, cookies  = cookies, json = doc_meta)\n",
    "print(response.text)"
   ]
  },
  {
   "cell_type": "code",
   "execution_count": null,
   "id": "ce868de4-3727-45b2-927e-4553dfd794a1",
   "metadata": {},
   "outputs": [],
   "source": []
  }
 ],
 "metadata": {
  "kernelspec": {
   "display_name": "Python 3 (ipykernel)",
   "language": "python",
   "name": "python3"
  },
  "language_info": {
   "codemirror_mode": {
    "name": "ipython",
    "version": 3
   },
   "file_extension": ".py",
   "mimetype": "text/x-python",
   "name": "python",
   "nbconvert_exporter": "python",
   "pygments_lexer": "ipython3",
   "version": "3.10.11"
  }
 },
 "nbformat": 4,
 "nbformat_minor": 5
}
